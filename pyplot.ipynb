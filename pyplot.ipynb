{
 "cells": [
  {
   "cell_type": "markdown",
   "id": "56b04f5e",
   "metadata": {},
   "source": [
    "  **Jupyter Notebook**"
   ]
  },
  {
   "cell_type": "markdown",
   "id": "7f95c8bd",
   "metadata": {},
   "source": [
    "15% A clear and concise overview of the matplotlib.pyplot Python package [3],\n",
    "pitched at your classmates.\n",
    "25% An in-depth explanation of three interesting plots from the matplotlib.pyplot\n",
    "Python package [3]. You have free reign to choose the three plots yourself."
   ]
  },
  {
   "cell_type": "code",
   "execution_count": 3,
   "id": "5ac21694",
   "metadata": {},
   "outputs": [],
   "source": [
    "from matplotlib import pyplot as plt"
   ]
  },
  {
   "cell_type": "code",
   "execution_count": null,
   "id": "cc8b93b6",
   "metadata": {},
   "outputs": [],
   "source": []
  }
 ],
 "metadata": {
  "kernelspec": {
   "display_name": "Python 3",
   "language": "python",
   "name": "python3"
  },
  "language_info": {
   "codemirror_mode": {
    "name": "ipython",
    "version": 3
   },
   "file_extension": ".py",
   "mimetype": "text/x-python",
   "name": "python",
   "nbconvert_exporter": "python",
   "pygments_lexer": "ipython3",
   "version": "3.8.8"
  }
 },
 "nbformat": 4,
 "nbformat_minor": 5
}
