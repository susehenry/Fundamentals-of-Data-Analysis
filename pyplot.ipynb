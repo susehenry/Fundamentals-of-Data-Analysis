{
 "cells": [
  {
   "cell_type": "markdown",
   "id": "56b04f5e",
   "metadata": {},
   "source": [
    "  **Jupyter Notebook**"
   ]
  },
  {
   "cell_type": "markdown",
   "id": "7f95c8bd",
   "metadata": {},
   "source": [
    "Introduction\n",
    "15% A clear and concise overview of the matplotlib.pyplot Python package [3],\n",
    "pitched at your classmates.\n",
    "25% An in-depth explanation of three interesting plots from the matplotlib.pyplot\n",
    "Python package [3]. You have free reign to choose the three plots yourself."
   ]
  },
  {
   "cell_type": "code",
   "execution_count": 2,
   "metadata": {},
   "outputs": [],
   "source": [
    "#setting up environment for matplotlib.pyplot\n",
    "#load necessary libraries\n",
    "from matplotlib import pyplot as plt \n",
    "import numpy as np\n",
    "import pandas as pd\n"
   ]
  },
  {
   "cell_type": "markdown",
   "metadata": {},
   "source": [
    "Explanation of the 3 different plots"
   ]
  },
  {
   "cell_type": "markdown",
   "metadata": {},
   "source": [
    "Plot 1 - scatterplot"
   ]
  },
  {
   "cell_type": "code",
   "execution_count": 3,
   "id": "5ac21694",
   "metadata": {},
   "outputs": [],
   "source": [
    "#plot 1 code\n"
   ]
  },
  {
   "cell_type": "markdown",
   "metadata": {},
   "source": [
    "Plot 2 - Time series plot"
   ]
  },
  {
   "cell_type": "code",
   "execution_count": null,
   "id": "cc8b93b6",
   "metadata": {},
   "outputs": [],
   "source": [
    "#plot 2 code"
   ]
  },
  {
   "cell_type": "markdown",
   "metadata": {},
   "source": [
    "Plot 3 -Joy plot"
   ]
  },
  {
   "cell_type": "code",
   "execution_count": null,
   "metadata": {},
   "outputs": [],
   "source": [
    "#plot 3 code"
   ]
  },
  {
   "cell_type": "markdown",
   "metadata": {},
   "source": [
    "References\n",
    "https://www.machinelearningplus.com/plots/top-50-matplotlib-visualizations-the-master-plots-python/\n",
    "\n",
    "https://matplotlib.org\n",
    "\n"
   ]
  }
 ],
 "metadata": {
  "interpreter": {
   "hash": "bcc66141a08faa045a8ae474ef8c79a15b807dc8555628bafcac26ff30b943f9"
  },
  "kernelspec": {
   "display_name": "Python 3.8.8 64-bit ('base': conda)",
   "name": "python3"
  },
  "language_info": {
   "codemirror_mode": {
    "name": "ipython",
    "version": 3
   },
   "file_extension": ".py",
   "mimetype": "text/x-python",
   "name": "python",
   "nbconvert_exporter": "python",
   "pygments_lexer": "ipython3",
   "version": "3.8.8"
  }
 },
 "nbformat": 4,
 "nbformat_minor": 5
}
