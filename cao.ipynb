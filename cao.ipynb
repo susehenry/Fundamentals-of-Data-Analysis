{
 "cells": [
  {
   "cell_type": "markdown",
   "id": "fb4bf657",
   "metadata": {},
   "source": [
    "Title"
   ]
  },
  {
   "cell_type": "markdown",
   "id": "6e72962c",
   "metadata": {},
   "source": [
    "10% A clear and concise overview of how to load CAO points information from the\n",
    "CAO website into a pandas data frame pitched as your classmates.\n",
    "\n",
    "20% A detailed comparison of CAO points in 2019, 2020, and 2021 using the functionality in pandas.\n",
    "\n",
    "10% Appropriate plots and other visualisations to enhance your notebook for viewers."
   ]
  }
 ],
 "metadata": {
  "kernelspec": {
   "display_name": "Python 3",
   "language": "python",
   "name": "python3"
  },
  "language_info": {
   "codemirror_mode": {
    "name": "ipython",
    "version": 3
   },
   "file_extension": ".py",
   "mimetype": "text/x-python",
   "name": "python",
   "nbconvert_exporter": "python",
   "pygments_lexer": "ipython3",
   "version": "3.8.8"
  }
 },
 "nbformat": 4,
 "nbformat_minor": 5
}
