{
 "cells": [
  {
   "cell_type": "markdown",
   "id": "fb4bf657",
   "metadata": {},
   "source": [
    "CAO points Analysis 2021"
   ]
  },
  {
   "cell_type": "markdown",
   "id": "6e72962c",
   "metadata": {},
   "source": [
    "10% A clear and concise overview of how to load CAO points information from the\n",
    "CAO website into a pandas data frame pitched as your classmates.\n",
    "\n",
    "20% A detailed comparison of CAO points in 2019, 2020, and 2021 using the functionality in pandas.\n",
    "\n",
    "10% Appropriate plots and other visualisations to enhance your notebook for viewers.\n",
    "\n",
    "\n"
   ]
  },
  {
   "cell_type": "code",
   "execution_count": 1,
   "id": "8b0df682",
   "metadata": {},
   "outputs": [],
   "source": [
    "import requests as rq"
   ]
  },
  {
   "cell_type": "code",
   "execution_count": 2,
   "id": "811fc15d",
   "metadata": {},
   "outputs": [
    {
     "data": {
      "text/plain": [
       "<Response [200]>"
      ]
     },
     "execution_count": 2,
     "metadata": {},
     "output_type": "execute_result"
    }
   ],
   "source": [
    "resp = rq.get (\"http://www2.cao.ie/points/l8.php\")\n",
    "\n",
    "resp"
   ]
  },
  {
   "cell_type": "code",
   "execution_count": null,
   "id": "590bc8fc",
   "metadata": {},
   "outputs": [],
   "source": []
  }
 ],
 "metadata": {
  "kernelspec": {
   "display_name": "Python 3",
   "language": "python",
   "name": "python3"
  },
  "language_info": {
   "codemirror_mode": {
    "name": "ipython",
    "version": 3
   },
   "file_extension": ".py",
   "mimetype": "text/x-python",
   "name": "python",
   "nbconvert_exporter": "python",
   "pygments_lexer": "ipython3",
   "version": "3.8.8"
  }
 },
 "nbformat": 4,
 "nbformat_minor": 5
}
